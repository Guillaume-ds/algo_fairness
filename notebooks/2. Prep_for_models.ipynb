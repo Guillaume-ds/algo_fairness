{
 "cells": [
  {
   "cell_type": "markdown",
   "metadata": {},
   "source": [
    "# Data Preparation for the Models"
   ]
  },
  {
   "cell_type": "code",
   "execution_count": 84,
   "metadata": {},
   "outputs": [],
   "source": [
    "import pandas as pd\n",
    "import utils\n",
    "from sklearn.ensemble import RandomForestClassifier\n",
    "from sklearn.linear_model import LogisticRegression\n",
    "from sklearn.model_selection import train_test_split\n",
    "from sklearn.metrics import accuracy_score, roc_auc_score\n",
    "from sklearn.preprocessing import LabelEncoder\n",
    "from catboost import CatBoostClassifier"
   ]
  },
  {
   "cell_type": "markdown",
   "metadata": {},
   "source": [
    "## Data Filtering and Preprocessing"
   ]
  },
  {
   "cell_type": "markdown",
   "metadata": {},
   "source": [
    "We aim at predicting \"is_recid\". Some features in the dataset must be droped in order to remove features that might be directly linked to the target value, such as \"is_violent_recid\""
   ]
  },
  {
   "cell_type": "code",
   "execution_count": 77,
   "metadata": {},
   "outputs": [],
   "source": [
    "df = utils.read_data_files()\n",
    "df = df.drop(df[df.is_recid == -1].index)"
   ]
  },
  {
   "cell_type": "code",
   "execution_count": 78,
   "metadata": {},
   "outputs": [],
   "source": [
    "FEATURES = ['sex', 'age', 'age_cat', 'race',\n",
    "            'juv_fel_count', 'decile_score', 'juv_misd_count', 'juv_other_count',\n",
    "            'priors_count', 'days_b_screening_arrest', 'c_jail_in', 'c_jail_out',\n",
    "            'c_days_from_compas', 'c_charge_degree', 'c_charge_desc', \n",
    "            'score_text', 'screening_date',\n",
    "            'v_decile_score', 'v_score_text',\n",
    "            'event']\n",
    "\n",
    "TARGET = ['is_recid']"
   ]
  },
  {
   "cell_type": "code",
   "execution_count": 79,
   "metadata": {},
   "outputs": [],
   "source": [
    "# Label encode categorical columns\n",
    "df_encoded = df[FEATURES + TARGET].copy()\n",
    "label_encoders = {}\n",
    "\n",
    "for column in df_encoded.select_dtypes(include=['object']).columns:\n",
    "    le = LabelEncoder()\n",
    "    df_encoded[column] = le.fit_transform(df_encoded[column].astype(str))\n",
    "    label_encoders[column] = le  # Store the label encoder for each column\n",
    "\n",
    "# Now all columns should be numeric\n",
    "X = df_encoded.drop('is_recid', axis=1)\n",
    "y = df_encoded['is_recid']"
   ]
  },
  {
   "cell_type": "code",
   "execution_count": 80,
   "metadata": {},
   "outputs": [],
   "source": [
    "# Handle missing values if any\n",
    "X.fillna(X.mean(), inplace=True)\n",
    "\n",
    "# Split the data into training and test sets\n",
    "X_train, X_test, y_train, y_test = train_test_split(X, y, test_size=0.20, random_state=42)"
   ]
  },
  {
   "cell_type": "markdown",
   "metadata": {},
   "source": [
    "## Models"
   ]
  },
  {
   "cell_type": "markdown",
   "metadata": {},
   "source": [
    "### Random Forest SK Learn"
   ]
  },
  {
   "cell_type": "code",
   "execution_count": 81,
   "metadata": {},
   "outputs": [],
   "source": [
    "# Create and fit the RandomForestClassifier\n",
    "rf_model = RandomForestClassifier(random_state=42)\n",
    "rf_model.fit(X_train, y_train)\n",
    "\n",
    "# Predict on the test set\n",
    "rf_predictions = rf_model.predict(X_test)\n",
    "\n",
    "# Evaluate the model's performance\n",
    "rf_accuracy = accuracy_score(y_test, rf_predictions)\n",
    "rf_roc_auc = roc_auc_score(y_test, rf_model.predict_proba(X_test)[:, 1])"
   ]
  },
  {
   "cell_type": "markdown",
   "metadata": {},
   "source": [
    "### CatBosst Classifier"
   ]
  },
  {
   "cell_type": "code",
   "execution_count": 88,
   "metadata": {},
   "outputs": [],
   "source": [
    "# CatBoost Classifier\n",
    "cat_model = CatBoostClassifier(iterations=200, learning_rate=0.1, depth=8, loss_function='Logloss')\n",
    "cat_model.fit(X_train, y_train, verbose=False)\n",
    "cat_predictions = cat_model.predict(X_test)\n",
    "cat_accuracy = accuracy_score(y_test, cat_predictions)\n",
    "cat_roc_auc = roc_auc_score(y_test, cat_model.predict_proba(X_test)[:, 1])"
   ]
  },
  {
   "cell_type": "markdown",
   "metadata": {},
   "source": [
    "# Logistic Regression"
   ]
  },
  {
   "cell_type": "code",
   "execution_count": 89,
   "metadata": {},
   "outputs": [],
   "source": [
    "# Logistic Regression\n",
    "log_model = LogisticRegression(max_iter=10_000)\n",
    "log_model.fit(X_train, y_train)\n",
    "log_predictions = log_model.predict(X_test)\n",
    "log_accuracy = accuracy_score(y_test, log_predictions)\n",
    "log_roc_auc = roc_auc_score(y_test, log_model.predict_proba(X_test)[:, 1])"
   ]
  },
  {
   "cell_type": "markdown",
   "metadata": {},
   "source": [
    "## Models Performace"
   ]
  },
  {
   "cell_type": "code",
   "execution_count": 90,
   "metadata": {},
   "outputs": [
    {
     "name": "stdout",
     "output_type": "stream",
     "text": [
      "OLS Accuracy: 0.9191428571428572, ROC AUC: 0.9689803367556039\n",
      "CatBoost Accuracy: 0.8174285714285714, ROC AUC: 0.8913686119939779\n",
      "Logistic Regression Accuracy: 0.6908571428571428, ROC AUC: 0.7556532154357645\n"
     ]
    }
   ],
   "source": [
    "# Print the performance indicators for each model\n",
    "print(f\"OLS Accuracy: {rf_accuracy}, ROC AUC: {rf_roc_auc}\")\n",
    "print(f\"CatBoost Accuracy: {cat_accuracy}, ROC AUC: {cat_roc_auc}\")\n",
    "print(f\"Logistic Regression Accuracy: {log_accuracy}, ROC AUC: {log_roc_auc}\")"
   ]
  }
 ],
 "metadata": {
  "kernelspec": {
   "display_name": "Python 3.11.2 ('venv': venv)",
   "language": "python",
   "name": "python3"
  },
  "language_info": {
   "codemirror_mode": {
    "name": "ipython",
    "version": 3
   },
   "file_extension": ".py",
   "mimetype": "text/x-python",
   "name": "python",
   "nbconvert_exporter": "python",
   "pygments_lexer": "ipython3",
   "version": "3.11.2"
  },
  "orig_nbformat": 4,
  "vscode": {
   "interpreter": {
    "hash": "b6202b448c91b07840a7a2d69ac22dc2fc77e7bab9acb657bb529faa6244f56e"
   }
  }
 },
 "nbformat": 4,
 "nbformat_minor": 2
}
