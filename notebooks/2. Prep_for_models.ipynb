{
 "cells": [
  {
   "cell_type": "markdown",
   "metadata": {},
   "source": [
    "# Data Preparation for the Models"
   ]
  },
  {
   "cell_type": "code",
   "execution_count": 16,
   "metadata": {},
   "outputs": [],
   "source": [
    "import pandas as pd\n",
    "import numpy as np\n",
    "import utils\n",
    "from sklearn.ensemble import RandomForestClassifier\n",
    "from sklearn.linear_model import LogisticRegression\n",
    "from sklearn.model_selection import train_test_split\n",
    "from sklearn.metrics import accuracy_score, roc_auc_score, r2_score\n",
    "from sklearn.preprocessing import LabelEncoder\n",
    "from sklearn.tree import DecisionTreeRegressor, DecisionTreeClassifier\n",
    "from catboost import CatBoostClassifier\n",
    "from sklearn.tree import export_graphviz\n",
    "from sklearn.svm import SVC\n",
    "from pygam import LogisticGAM\n",
    "from sklearn.metrics import matthews_corrcoef\n",
    "from dtreeplt import dtreeplt\n",
    "from sklearn.tree import DecisionTreeClassifier\n",
    "import graphviz\n",
    "import lightgbm as lgb\n",
    "import tensorflow as tf\n",
    "from tensorflow import keras\n",
    "import xgboost as xgb\n",
    "import matplotlib.pyplot as plt"
   ]
  },
  {
   "cell_type": "markdown",
   "metadata": {},
   "source": [
    "## Data Filtering and Preprocessing"
   ]
  },
  {
   "cell_type": "markdown",
   "metadata": {},
   "source": [
    "We aim at predicting \"is_recid\". Some features in the dataset must be droped in order to remove features that might be directly linked to the target value, such as \"is_violent_recid\""
   ]
  },
  {
   "cell_type": "code",
   "execution_count": 2,
   "metadata": {},
   "outputs": [],
   "source": [
    "df = utils.read_data_files()\n",
    "df = df.drop(df[df.is_recid == -1].index)"
   ]
  },
  {
   "cell_type": "code",
   "execution_count": 3,
   "metadata": {},
   "outputs": [
    {
     "data": {
      "text/html": [
       "<div>\n",
       "<style scoped>\n",
       "    .dataframe tbody tr th:only-of-type {\n",
       "        vertical-align: middle;\n",
       "    }\n",
       "\n",
       "    .dataframe tbody tr th {\n",
       "        vertical-align: top;\n",
       "    }\n",
       "\n",
       "    .dataframe thead th {\n",
       "        text-align: right;\n",
       "    }\n",
       "</style>\n",
       "<table border=\"1\" class=\"dataframe\">\n",
       "  <thead>\n",
       "    <tr style=\"text-align: right;\">\n",
       "      <th></th>\n",
       "      <th>id</th>\n",
       "      <th>name</th>\n",
       "      <th>first</th>\n",
       "      <th>last</th>\n",
       "      <th>sex</th>\n",
       "      <th>dob</th>\n",
       "      <th>age</th>\n",
       "      <th>age_cat</th>\n",
       "      <th>race</th>\n",
       "      <th>juv_fel_count</th>\n",
       "      <th>...</th>\n",
       "      <th>vr_charge_desc</th>\n",
       "      <th>type_of_assessment</th>\n",
       "      <th>decile_score.1</th>\n",
       "      <th>score_text</th>\n",
       "      <th>screening_date</th>\n",
       "      <th>v_type_of_assessment</th>\n",
       "      <th>v_decile_score</th>\n",
       "      <th>v_score_text</th>\n",
       "      <th>priors_count.1</th>\n",
       "      <th>event</th>\n",
       "    </tr>\n",
       "  </thead>\n",
       "  <tbody>\n",
       "    <tr>\n",
       "      <th>0</th>\n",
       "      <td>1.0</td>\n",
       "      <td>miguel hernandez</td>\n",
       "      <td>miguel</td>\n",
       "      <td>hernandez</td>\n",
       "      <td>Male</td>\n",
       "      <td>18/04/1947</td>\n",
       "      <td>69</td>\n",
       "      <td>Greater than 45</td>\n",
       "      <td>Other</td>\n",
       "      <td>0</td>\n",
       "      <td>...</td>\n",
       "      <td>NaN</td>\n",
       "      <td>Risk of Recidivism</td>\n",
       "      <td>1</td>\n",
       "      <td>Low</td>\n",
       "      <td>14/08/2013</td>\n",
       "      <td>Risk of Violence</td>\n",
       "      <td>1</td>\n",
       "      <td>Low</td>\n",
       "      <td>0</td>\n",
       "      <td>0</td>\n",
       "    </tr>\n",
       "    <tr>\n",
       "      <th>1</th>\n",
       "      <td>2.0</td>\n",
       "      <td>miguel hernandez</td>\n",
       "      <td>miguel</td>\n",
       "      <td>hernandez</td>\n",
       "      <td>Male</td>\n",
       "      <td>18/04/1947</td>\n",
       "      <td>69</td>\n",
       "      <td>Greater than 45</td>\n",
       "      <td>Other</td>\n",
       "      <td>0</td>\n",
       "      <td>...</td>\n",
       "      <td>NaN</td>\n",
       "      <td>Risk of Recidivism</td>\n",
       "      <td>1</td>\n",
       "      <td>Low</td>\n",
       "      <td>14/08/2013</td>\n",
       "      <td>Risk of Violence</td>\n",
       "      <td>1</td>\n",
       "      <td>Low</td>\n",
       "      <td>0</td>\n",
       "      <td>0</td>\n",
       "    </tr>\n",
       "    <tr>\n",
       "      <th>3</th>\n",
       "      <td>4.0</td>\n",
       "      <td>kevon dixon</td>\n",
       "      <td>kevon</td>\n",
       "      <td>dixon</td>\n",
       "      <td>Male</td>\n",
       "      <td>22/01/1982</td>\n",
       "      <td>34</td>\n",
       "      <td>25 - 45</td>\n",
       "      <td>African-American</td>\n",
       "      <td>0</td>\n",
       "      <td>...</td>\n",
       "      <td>Felony Battery (Dom Strang)</td>\n",
       "      <td>Risk of Recidivism</td>\n",
       "      <td>3</td>\n",
       "      <td>Low</td>\n",
       "      <td>27/01/2013</td>\n",
       "      <td>Risk of Violence</td>\n",
       "      <td>1</td>\n",
       "      <td>Low</td>\n",
       "      <td>0</td>\n",
       "      <td>1</td>\n",
       "    </tr>\n",
       "    <tr>\n",
       "      <th>4</th>\n",
       "      <td>5.0</td>\n",
       "      <td>ed philo</td>\n",
       "      <td>ed</td>\n",
       "      <td>philo</td>\n",
       "      <td>Male</td>\n",
       "      <td>14/05/1991</td>\n",
       "      <td>24</td>\n",
       "      <td>Less than 25</td>\n",
       "      <td>African-American</td>\n",
       "      <td>0</td>\n",
       "      <td>...</td>\n",
       "      <td>NaN</td>\n",
       "      <td>Risk of Recidivism</td>\n",
       "      <td>4</td>\n",
       "      <td>Low</td>\n",
       "      <td>14/04/2013</td>\n",
       "      <td>Risk of Violence</td>\n",
       "      <td>3</td>\n",
       "      <td>Low</td>\n",
       "      <td>4</td>\n",
       "      <td>0</td>\n",
       "    </tr>\n",
       "    <tr>\n",
       "      <th>5</th>\n",
       "      <td>6.0</td>\n",
       "      <td>ed philo</td>\n",
       "      <td>ed</td>\n",
       "      <td>philo</td>\n",
       "      <td>Male</td>\n",
       "      <td>14/05/1991</td>\n",
       "      <td>24</td>\n",
       "      <td>Less than 25</td>\n",
       "      <td>African-American</td>\n",
       "      <td>0</td>\n",
       "      <td>...</td>\n",
       "      <td>NaN</td>\n",
       "      <td>Risk of Recidivism</td>\n",
       "      <td>4</td>\n",
       "      <td>Low</td>\n",
       "      <td>14/04/2013</td>\n",
       "      <td>Risk of Violence</td>\n",
       "      <td>3</td>\n",
       "      <td>Low</td>\n",
       "      <td>4</td>\n",
       "      <td>0</td>\n",
       "    </tr>\n",
       "  </tbody>\n",
       "</table>\n",
       "<p>5 rows × 40 columns</p>\n",
       "</div>"
      ],
      "text/plain": [
       "    id              name   first       last   sex         dob  age  \\\n",
       "0  1.0  miguel hernandez  miguel  hernandez  Male  18/04/1947   69   \n",
       "1  2.0  miguel hernandez  miguel  hernandez  Male  18/04/1947   69   \n",
       "3  4.0       kevon dixon   kevon      dixon  Male  22/01/1982   34   \n",
       "4  5.0          ed philo      ed      philo  Male  14/05/1991   24   \n",
       "5  6.0          ed philo      ed      philo  Male  14/05/1991   24   \n",
       "\n",
       "           age_cat              race  juv_fel_count  ...  \\\n",
       "0  Greater than 45             Other              0  ...   \n",
       "1  Greater than 45             Other              0  ...   \n",
       "3          25 - 45  African-American              0  ...   \n",
       "4     Less than 25  African-American              0  ...   \n",
       "5     Less than 25  African-American              0  ...   \n",
       "\n",
       "                vr_charge_desc  type_of_assessment  decile_score.1  \\\n",
       "0                          NaN  Risk of Recidivism               1   \n",
       "1                          NaN  Risk of Recidivism               1   \n",
       "3  Felony Battery (Dom Strang)  Risk of Recidivism               3   \n",
       "4                          NaN  Risk of Recidivism               4   \n",
       "5                          NaN  Risk of Recidivism               4   \n",
       "\n",
       "   score_text  screening_date v_type_of_assessment v_decile_score  \\\n",
       "0         Low      14/08/2013     Risk of Violence              1   \n",
       "1         Low      14/08/2013     Risk of Violence              1   \n",
       "3         Low      27/01/2013     Risk of Violence              1   \n",
       "4         Low      14/04/2013     Risk of Violence              3   \n",
       "5         Low      14/04/2013     Risk of Violence              3   \n",
       "\n",
       "   v_score_text priors_count.1 event  \n",
       "0           Low              0     0  \n",
       "1           Low              0     0  \n",
       "3           Low              0     1  \n",
       "4           Low              4     0  \n",
       "5           Low              4     0  \n",
       "\n",
       "[5 rows x 40 columns]"
      ]
     },
     "execution_count": 3,
     "metadata": {},
     "output_type": "execute_result"
    }
   ],
   "source": [
    "df.head()"
   ]
  },
  {
   "cell_type": "code",
   "execution_count": 5,
   "metadata": {},
   "outputs": [
    {
     "data": {
      "text/plain": [
       "Index(['id', 'name', 'first', 'last', 'sex', 'dob', 'age', 'age_cat', 'race',\n",
       "       'juv_fel_count', 'decile_score', 'juv_misd_count', 'juv_other_count',\n",
       "       'priors_count', 'days_b_screening_arrest', 'c_jail_in', 'c_jail_out',\n",
       "       'c_days_from_compas', 'c_charge_degree', 'c_charge_desc', 'is_recid',\n",
       "       'r_charge_degree', 'r_days_from_arrest', 'r_offense_date',\n",
       "       'r_charge_desc', 'r_jail_in', 'violent_recid', 'is_violent_recid',\n",
       "       'vr_charge_degree', 'vr_offense_date', 'vr_charge_desc',\n",
       "       'type_of_assessment', 'decile_score.1', 'score_text', 'screening_date',\n",
       "       'v_type_of_assessment', 'v_decile_score', 'v_score_text',\n",
       "       'priors_count.1', 'event'],\n",
       "      dtype='object')"
      ]
     },
     "execution_count": 5,
     "metadata": {},
     "output_type": "execute_result"
    }
   ],
   "source": [
    "df.columns"
   ]
  },
  {
   "cell_type": "code",
   "execution_count": 6,
   "metadata": {},
   "outputs": [],
   "source": [
    "FEATURES = ['sex', 'age', 'age_cat', 'race',\n",
    "            'juv_fel_count', 'decile_score', 'juv_misd_count', 'juv_other_count',\n",
    "            'priors_count', 'days_b_screening_arrest', 'c_jail_in', 'c_jail_out',\n",
    "            'c_days_from_compas', 'c_charge_degree', 'c_charge_desc', \n",
    "            'score_text', 'screening_date',\n",
    "            'v_decile_score', 'v_score_text',\n",
    "            'event']\n",
    "\n",
    "TARGET = ['is_recid']"
   ]
  },
  {
   "cell_type": "code",
   "execution_count": 7,
   "metadata": {},
   "outputs": [],
   "source": [
    "# Label encode categorical columns\n",
    "df_encoded = df[FEATURES + TARGET].copy()\n",
    "label_encoders = {}\n",
    "\n",
    "for column in df_encoded.select_dtypes(include=['object']).columns:\n",
    "    le = LabelEncoder()\n",
    "    df_encoded[column] = le.fit_transform(df_encoded[column].astype(str))\n",
    "    label_encoders[column] = le  # Store the label encoder for each column\n",
    "\n",
    "# Now all columns should be numeric\n",
    "X = df_encoded.drop('is_recid', axis=1)\n",
    "y = df_encoded['is_recid']"
   ]
  },
  {
   "cell_type": "code",
   "execution_count": 8,
   "metadata": {},
   "outputs": [],
   "source": [
    "# Handle missing values if any\n",
    "X.fillna(X.mean(), inplace=True)\n",
    "\n",
    "# Split the data into training and test sets\n",
    "X_train, X_test, y_train, y_test = train_test_split(X, y, test_size=0.20, random_state=42)"
   ]
  },
  {
   "cell_type": "markdown",
   "metadata": {},
   "source": [
    "## Black-Box Models"
   ]
  },
  {
   "cell_type": "markdown",
   "metadata": {},
   "source": [
    "### Random Forest SK Learn"
   ]
  },
  {
   "cell_type": "code",
   "execution_count": 9,
   "metadata": {},
   "outputs": [],
   "source": [
    "# Create and fit the RandomForestClassifier\n",
    "rf_model = RandomForestClassifier(random_state=42)\n",
    "rf_model.fit(X_train, y_train)\n",
    "\n",
    "# Predict on the test set\n",
    "rf_predictions = rf_model.predict(X_test)\n",
    "\n",
    "# Evaluate the model's performance\n",
    "rf_accuracy = accuracy_score(y_test, rf_predictions)\n",
    "rf_roc_auc = roc_auc_score(y_test, rf_model.predict_proba(X_test)[:, 1])"
   ]
  },
  {
   "cell_type": "markdown",
   "metadata": {},
   "source": [
    "### CatBoost Classifier"
   ]
  },
  {
   "cell_type": "code",
   "execution_count": 10,
   "metadata": {},
   "outputs": [],
   "source": [
    "# CatBoost Classifier\n",
    "cat_model = CatBoostClassifier(iterations=200, learning_rate=0.1, depth=8, loss_function='Logloss')\n",
    "cat_model.fit(X_train, y_train, verbose=False)\n",
    "cat_predictions = cat_model.predict(X_test)\n",
    "cat_accuracy = accuracy_score(y_test, cat_predictions)\n",
    "cat_roc_auc = roc_auc_score(y_test, cat_model.predict_proba(X_test)[:, 1])"
   ]
  },
  {
   "cell_type": "code",
   "execution_count": 11,
   "metadata": {},
   "outputs": [
    {
     "name": "stderr",
     "output_type": "stream",
     "text": [
      "/Users/madhuranirale/opt/anaconda3/lib/python3.9/site-packages/lightgbm/engine.py:148: UserWarning: Found `num_iterations` in params. Will use it instead of argument\n",
      "  _log_warning(\"Found `{}` in params. Will use it instead of argument\".format(alias))\n"
     ]
    }
   ],
   "source": [
    "# LightGBM Classifier\n",
    "lgb_model = lgb.LGBMClassifier(num_iterations=200, learning_rate=0.1, max_depth=8, objective='binary', metric='binary_logloss')\n",
    "lgb_model.fit(X_train, y_train, verbose=False)\n",
    "lgb_predictions = lgb_model.predict(X_test)\n",
    "lgb_accuracy = accuracy_score(y_test, lgb_predictions)\n",
    "lgb_roc_auc = roc_auc_score(y_test, lgb_model.predict_proba(X_test)[:, 1])"
   ]
  },
  {
   "cell_type": "code",
   "execution_count": 12,
   "metadata": {},
   "outputs": [],
   "source": [
    "# XGBoost Classifier\n",
    "xgb_model = xgb.XGBClassifier(n_estimators=200, learning_rate=0.1, max_depth=8, objective='binary:logistic')\n",
    "xgb_model.fit(X_train, y_train, verbose=False)\n",
    "xgb_predictions = xgb_model.predict(X_test)\n",
    "xgb_accuracy = accuracy_score(y_test, xgb_predictions)\n",
    "xgb_roc_auc = roc_auc_score(y_test, xgb_model.predict_proba(X_test)[:, 1])"
   ]
  },
  {
   "cell_type": "markdown",
   "metadata": {},
   "source": [
    "### Neural Networks"
   ]
  },
  {
   "cell_type": "code",
   "execution_count": 13,
   "metadata": {},
   "outputs": [
    {
     "name": "stdout",
     "output_type": "stream",
     "text": [
      "Epoch 1/15\n"
     ]
    },
    {
     "name": "stderr",
     "output_type": "stream",
     "text": [
      "2023-11-09 17:50:10.993217: I tensorflow/core/platform/cpu_feature_guard.cc:193] This TensorFlow binary is optimized with oneAPI Deep Neural Network Library (oneDNN) to use the following CPU instructions in performance-critical operations:  SSE4.1 SSE4.2\n",
      "To enable them in other operations, rebuild TensorFlow with the appropriate compiler flags.\n"
     ]
    },
    {
     "name": "stdout",
     "output_type": "stream",
     "text": [
      "438/438 [==============================] - 1s 1ms/step - loss: 12.7197 - accuracy: 0.5289 - val_loss: 5.0391 - val_accuracy: 0.5249\n",
      "Epoch 2/15\n",
      "438/438 [==============================] - 0s 1ms/step - loss: 4.9510 - accuracy: 0.5459 - val_loss: 5.2502 - val_accuracy: 0.5457\n",
      "Epoch 3/15\n",
      "438/438 [==============================] - 0s 1ms/step - loss: 3.2406 - accuracy: 0.5675 - val_loss: 3.7375 - val_accuracy: 0.5423\n",
      "Epoch 4/15\n",
      "438/438 [==============================] - 0s 1ms/step - loss: 2.2654 - accuracy: 0.5845 - val_loss: 1.3419 - val_accuracy: 0.6054\n",
      "Epoch 5/15\n",
      "438/438 [==============================] - 0s 1ms/step - loss: 2.3735 - accuracy: 0.5766 - val_loss: 1.0570 - val_accuracy: 0.6097\n",
      "Epoch 6/15\n",
      "438/438 [==============================] - 0s 1ms/step - loss: 1.5647 - accuracy: 0.5860 - val_loss: 1.0133 - val_accuracy: 0.6277\n",
      "Epoch 7/15\n",
      "438/438 [==============================] - 0s 1ms/step - loss: 1.4282 - accuracy: 0.5743 - val_loss: 1.8128 - val_accuracy: 0.5343\n",
      "Epoch 8/15\n",
      "438/438 [==============================] - 0s 1ms/step - loss: 0.9670 - accuracy: 0.6051 - val_loss: 0.8621 - val_accuracy: 0.6326\n",
      "Epoch 9/15\n",
      "438/438 [==============================] - 0s 1ms/step - loss: 0.9686 - accuracy: 0.6057 - val_loss: 0.7467 - val_accuracy: 0.6063\n",
      "Epoch 10/15\n",
      "438/438 [==============================] - 0s 1ms/step - loss: 0.9786 - accuracy: 0.5969 - val_loss: 1.9590 - val_accuracy: 0.5360\n",
      "Epoch 11/15\n",
      "438/438 [==============================] - 0s 1ms/step - loss: 0.9443 - accuracy: 0.5986 - val_loss: 0.8358 - val_accuracy: 0.5911\n",
      "Epoch 12/15\n",
      "438/438 [==============================] - 0s 1ms/step - loss: 0.8473 - accuracy: 0.6125 - val_loss: 0.8872 - val_accuracy: 0.5780\n",
      "Epoch 13/15\n",
      "438/438 [==============================] - 0s 1ms/step - loss: 0.8140 - accuracy: 0.6074 - val_loss: 0.9309 - val_accuracy: 0.5649\n",
      "Epoch 14/15\n",
      "438/438 [==============================] - 0s 1ms/step - loss: 0.7618 - accuracy: 0.6031 - val_loss: 0.6230 - val_accuracy: 0.6677\n",
      "Epoch 15/15\n",
      "438/438 [==============================] - 0s 1ms/step - loss: 0.6980 - accuracy: 0.6202 - val_loss: 0.8723 - val_accuracy: 0.5591\n",
      "110/110 [==============================] - 0s 603us/step - loss: 0.8723 - accuracy: 0.5591\n",
      "110/110 [==============================] - 0s 551us/step\n",
      "110/110 [==============================] - 0s 504us/step\n"
     ]
    }
   ],
   "source": [
    "# Create a simple neural network model\n",
    "model = keras.Sequential([\n",
    "    keras.layers.Dense(128, activation='relu', input_dim=X_train.shape[1]),\n",
    "    keras.layers.Dense(64, activation='relu'),\n",
    "    keras.layers.Dense(32, activation='relu'),\n",
    "    keras.layers.Dense(1, activation='sigmoid')\n",
    "])\n",
    "\n",
    "# Compile the model\n",
    "optimizer = tf.keras.optimizers.Adam(learning_rate=0.001)\n",
    "model.compile(optimizer=optimizer, loss='binary_crossentropy', metrics=['accuracy'])\n",
    "#model.compile(optimizer='adam', loss='binary_crossentropy', metrics=['accuracy'])\n",
    "\n",
    "# Train the neural network\n",
    "model.fit(X_train, y_train, epochs=15, batch_size=32, validation_data=(X_test, y_test))\n",
    "\n",
    "# Evaluate the model's performance\n",
    "nn_loss, nn_accuracy = model.evaluate(X_test, y_test)\n",
    "\n",
    "# Predictions from the neural network\n",
    "nn_predictions = (model.predict(X_test) > 0.5).astype(int)\n",
    "\n",
    "# You can also calculate ROC AUC if you have binary classification\n",
    "nn_roc_auc = roc_auc_score(y_test, model.predict(X_test))\n",
    "\n"
   ]
  },
  {
   "cell_type": "code",
   "execution_count": 14,
   "metadata": {},
   "outputs": [
    {
     "name": "stdout",
     "output_type": "stream",
     "text": [
      "Random forest accuracy: 0.9191428571428572, ROC AUC: 0.9689803367556039\n",
      "CatBoost Accuracy: 0.8174285714285714, ROC AUC: 0.8913686119939779\n",
      "LightGBM Accuracy: 0.828, ROC AUC: 0.8985067643860821\n",
      "XGBoost Accuracy: 0.8717142857142857, ROC AUC: 0.931780787366176\n",
      "NN Accuracy: 0.5591428279876709, ROC AUC: 0.6811327406218635\n"
     ]
    }
   ],
   "source": [
    "# Print the performance indicators for each model\n",
    "print(f\"Random forest accuracy: {rf_accuracy}, ROC AUC: {rf_roc_auc}\")\n",
    "print(f\"CatBoost Accuracy: {cat_accuracy}, ROC AUC: {cat_roc_auc}\")\n",
    "print(f\"LightGBM Accuracy: {lgb_accuracy}, ROC AUC: {lgb_roc_auc}\")\n",
    "print(f\"XGBoost Accuracy: {xgb_accuracy}, ROC AUC: {xgb_roc_auc}\")\n",
    "print(f\"NN Accuracy: {nn_accuracy}, ROC AUC: {nn_roc_auc}\")"
   ]
  },
  {
   "cell_type": "markdown",
   "metadata": {},
   "source": [
    "# Surrogate Models"
   ]
  },
  {
   "cell_type": "code",
   "execution_count": 24,
   "metadata": {},
   "outputs": [
    {
     "name": "stdout",
     "output_type": "stream",
     "text": [
      "Surrogate Model - DT Accuracy: 0.6917142857142857\n",
      "Surrogate Model - DT ROC AUC Score: 0.6922570257611242\n"
     ]
    },
    {
     "data": {
      "image/png": "[encoded data removed]",
      "text/plain": [
       "<Figure size 600x500 with 1 Axes>"
      ]
     },
     "metadata": {},
     "output_type": "display_data"
    }
   ],
   "source": [
    "# Step 1: Get predictions of the black box model (CatBoost)\n",
    "cat_predictions_train = cat_model.predict(X_train)\n",
    "\n",
    "# Step 2: Select an interpretable model type (Decision Tree)\n",
    "surrogate_model = DecisionTreeClassifier(max_depth=4)\n",
    "surrogate_model.fit(X_train, cat_predictions_train)\n",
    "surrogate_predictions_test = surrogate_model.predict(X_test)\n",
    "\n",
    "# Evaluate surrogate model performance (you can use different metrics based on your task)\n",
    "surrogate_accuracy = accuracy_score(y_test,surrogate_predictions_test)\n",
    "surrogate_auc =  roc_auc_score(y_test,surrogate_predictions_test)\n",
    "\n",
    "print(\"Surrogate Model - DT Accuracy:\", surrogate_accuracy)\n",
    "print(\"Surrogate Model - DT ROC AUC Score:\", surrogate_auc)\n",
    "\n",
    "# Step 5: Interpret the surrogate model (you can visualize the tree structure or feature importances)\n",
    "# visualize the tree structure\n",
    "\n",
    "\n",
    "dot_data = export_graphviz(surrogate_model, out_file=None, feature_names=X_train.columns, filled=True, rounded=True)\n",
    "graph = graphviz.Source(dot_data)\n",
    "graph.render(\"surrogate_DF_tree\", format=\"png\", cleanup=True)\n",
    "\n",
    "# plot feature importances\n",
    "feature_importances = pd.DataFrame()\n",
    "feature_importances['feature'] = X_train.columns\n",
    "feature_importances['importance'] = surrogate_model.feature_importances_\n",
    "\n",
    "# Sort feature importances in descending order\n",
    "feature_importances = feature_importances.sort_values(by='importance', ascending=True)\n",
    "\n",
    "# Plot feature importances with color and style adjustments\n",
    "plt.figure(figsize=(6, 5))\n",
    "bar_colors = plt.cm.viridis(feature_importances['importance'] / feature_importances['importance'].max())  # Color based on importance\n",
    "\n",
    "plt.barh(feature_importances['feature'], feature_importances['importance'], color=bar_colors)\n",
    "plt.xlabel('Feature Importance')\n",
    "plt.ylabel('Feature')\n",
    "plt.title('Feature Importances - Surrogate Decision Tree')\n",
    "plt.grid(axis='x', linestyle='--', alpha=0.6)\n",
    "plt.show()\n"
   ]
  },
  {
   "cell_type": "markdown",
   "metadata": {},
   "source": [
    "# White-Box Models"
   ]
  },
  {
   "cell_type": "markdown",
   "metadata": {},
   "source": [
    "### Logistic Regression"
   ]
  },
  {
   "cell_type": "code",
   "execution_count": 25,
   "metadata": {},
   "outputs": [],
   "source": [
    "# Logistic Regression\n",
    "log_model = LogisticRegression(max_iter=10_000)\n",
    "log_model.fit(X_train, y_train)\n",
    "log_predictions = log_model.predict(X_test)\n",
    "log_accuracy = accuracy_score(y_test, log_predictions)\n",
    "log_roc_auc = roc_auc_score(y_test, log_model.predict_proba(X_test)[:, 1])"
   ]
  },
  {
   "cell_type": "markdown",
   "metadata": {},
   "source": [
    "### Generalized Additive Models (GAM)"
   ]
  },
  {
   "cell_type": "code",
   "execution_count": 26,
   "metadata": {},
   "outputs": [],
   "source": [
    "# Generalized Additive Model (GAM)\n",
    "gam_model = LogisticGAM().fit(X_train, y_train)\n",
    "gam_predictions = gam_model.predict(X_test)\n",
    "gam_accuracy = accuracy_score(y_test, gam_predictions.round())\n",
    "gam_roc_auc = roc_auc_score(y_test, gam_model.predict_proba(X_test))"
   ]
  },
  {
   "cell_type": "code",
   "execution_count": 27,
   "metadata": {},
   "outputs": [
    {
     "name": "stdout",
     "output_type": "stream",
     "text": [
      "Logistic Regression Accuracy: 0.6894285714285714, ROC AUC: 0.7576197359066578\n",
      "GAM Accuracy: 0.7088571428571429, ROC AUC: 0.7816146181833389\n"
     ]
    }
   ],
   "source": [
    "print(f\"Logistic Regression Accuracy: {log_accuracy}, ROC AUC: {log_roc_auc}\")\n",
    "print(f\"GAM Accuracy: {gam_accuracy}, ROC AUC: {gam_roc_auc}\")\n"
   ]
  },
  {
   "cell_type": "code",
   "execution_count": null,
   "metadata": {},
   "outputs": [],
   "source": []
  }
 ],
 "metadata": {
  "kernelspec": {
   "display_name": "Python 3 (ipykernel)",
   "language": "python",
   "name": "python3"
  },
  "language_info": {
   "codemirror_mode": {
    "name": "ipython",
    "version": 3
   },
   "file_extension": ".py",
   "mimetype": "text/x-python",
   "name": "python",
   "nbconvert_exporter": "python",
   "pygments_lexer": "ipython3",
   "version": "3.9.12"
  },
  "vscode": {
   "interpreter": {
    "hash": "b6202b448c91b07840a7a2d69ac22dc2fc77e7bab9acb657bb529faa6244f56e"
   }
  }
 },
 "nbformat": 4,
 "nbformat_minor": 2
}
